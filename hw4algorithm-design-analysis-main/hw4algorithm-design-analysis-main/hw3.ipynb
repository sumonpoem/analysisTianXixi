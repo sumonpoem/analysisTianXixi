{
 "cells": [
  {
   "cell_type": "markdown",
   "metadata": {},
   "source": [
    "## algorithm design and anlysis-2025 spring  homework 3\n",
    "**Deadline**：2025.5.14\n",
    "\n",
    "**name**:\n",
    "\n",
    "\n",
    "note：\n",
    "---\n",
    "1. 带有\\*的题目，申请免上课的同学，必须完成，其他同学选作；\n",
    "2. 请独立完成，如求助了他人或者大模型，请著明，并且不可省略算法分析部分；\n",
    "4. 如若作答有雷同，全部取消成绩；\n",
    "3. 需要书面作答的题目，可以通过引用图片的形式添加，但是注意上传项目时包含所引用的图片的源文件；\n",
    "4. $log_n$ 默认表示$log_2{n}$;"
   ]
  },
  {
   "cell_type": "markdown",
   "metadata": {},
   "source": [
    "## 问题 1  \n",
    "\n",
    "请证明基于比较的排序算法计算复杂度下界为$\\Omega(nlogn)$"
   ]
  },
  {
   "cell_type": "markdown",
   "metadata": {},
   "source": [
    "you can refer a handwritten picture, pleas upload the picture in /fig/xxx.png\n",
    "answer：![figure](./fig/3.1.png)"
   ]
  },
  {
   "cell_type": "markdown",
   "metadata": {},
   "source": [
    "## 问题 2 \n",
    "\n",
    "构建二叉搜索树\n",
    "\n",
    "> 1. 给定一个数组 [48, 33, 49, 47, 42, 46, 32], 构建一个二叉搜索树存储这些数据，请**绘制**所构建的**二叉搜索树**（标明结点的值）。\n",
    "> 2. 从第1问的二叉搜索树中删除33，请**绘制**删除33后的**二叉搜索树**（标明结点的值）\n",
    "\n",
    "- 推荐使用graphviz包绘制树的结构"
   ]
  },
  {
   "cell_type": "markdown",
   "metadata": {},
   "source": [
    "you can refer a handwritten picture, pleas upload the picture in /fig/xxx.png\n",
    "answer：![figure](./fig/3.2.png)"
   ]
  },
  {
   "cell_type": "markdown",
   "metadata": {},
   "source": [
    "## 问题 3 \n",
    "\n",
    "> 下面是九门课程的开始和结束时间:\n",
    ">\n",
    "> [(9:00,12:30), (11:00,14:00), (13:00, 14:30), (9:00,10:30),(13:00, 14:30),(14:00,16:30), (15:00,16:30), (15:00,16:30), (9:00,10:30)]\n",
    ">\n",
    "> 请使用贪婪算法为这九门课分配教室，要求在同一天内安排这些课，并且每个教室同一时间只能安排一门课。\n",
    "\n",
    "**请问最少需要几间教室，罗列出每个教室安排的课程**"
   ]
  },
  {
   "cell_type": "markdown",
   "metadata": {},
   "source": "idea：使用贪婪算法解决这个问题，采用“最早开始时间”或“最早结束时间”的策略。我选择“最早开始时间”的策略，即每次选择最早开始的课程，并将其分配给一个可用的教室。如果没有可用的教室，就开一个新的教室。"
  },
  {
   "cell_type": "code",
   "metadata": {
    "vscode": {
     "languageId": "plaintext"
    },
    "ExecuteTime": {
     "end_time": "2025-05-10T02:26:45.795Z",
     "start_time": "2025-05-10T02:26:45.790425Z"
    }
   },
   "source": [
    "# code：\n",
    "import heapq\n",
    "\n",
    "def classrooms(courses):\n",
    "    courses.sort(key=lambda x: x[0])\n",
    "    heap = [] \n",
    "    classroom_courses = {} \n",
    "    classroom_count = 0\n",
    "\n",
    "    for start, end in courses:\n",
    "        if heap and heap[0][0] <= start:\n",
    "            earliest_end, classroom = heapq.heappop(heap)\n",
    "            classroom_courses[classroom].append((start, end))\n",
    "            heapq.heappush(heap, (end, classroom))\n",
    "        else:\n",
    "            classroom_count += 1\n",
    "            classroom_courses[classroom_count] = [(start, end)]\n",
    "            heapq.heappush(heap, (end, classroom_count))\n",
    "\n",
    "    return classroom_count, classroom_courses\n",
    "\n",
    "courses = [\n",
    "    (9.0, 10.5),\n",
    "    (9.0, 10.5), \n",
    "    (9.0, 12.5), \n",
    "    (11.0, 14.0),\n",
    "    (13.0, 14.5), \n",
    "    (13.0, 14.5),\n",
    "    (14.0, 16.5),\n",
    "    (15.0, 16.5), \n",
    "    (15.0, 16.5), \n",
    "]\n",
    "\n",
    "min_classrooms, assignments = classrooms(courses)\n",
    "print(f\"最少需要 {min_classrooms} 间教室\")\n",
    "for classroom, courses in assignments.items():\n",
    "    print(f\"教室{classroom}: {courses}\")"
   ],
   "outputs": [
    {
     "name": "stdout",
     "output_type": "stream",
     "text": [
      "最少需要 3 间教室\n",
      "教室1: [(9.0, 10.5), (11.0, 14.0), (14.0, 16.5)]\n",
      "教室2: [(9.0, 10.5), (13.0, 14.5), (15.0, 16.5)]\n",
      "教室3: [(9.0, 12.5), (13.0, 14.5), (15.0, 16.5)]\n"
     ]
    }
   ],
   "execution_count": 11
  },
  {
   "cell_type": "markdown",
   "metadata": {},
   "source": [
    "## 问题 4 \n",
    "\n",
    "> 爬楼梯问题：假设爬楼梯时你每次只能爬一阶或者爬两阶，问爬上n阶的楼梯，你一共有多少种方法\n",
    "\n",
    "请设计算法完成该问题，分析算法设计思路，计算时间复杂度，并基于python编程实现"
   ]
  },
  {
   "cell_type": "markdown",
   "metadata": {},
   "source": [
    "idea：n = 1：只有一种方法（爬1阶）。\n",
    "\n",
    "n = 2：有两种方法（1+1或直接爬2阶）。\n",
    "\n",
    "n = 3：从第1阶爬2阶上来。从第2阶爬1阶上来。\n",
    "\n",
    "所以方法数=爬到第1阶的方法数+爬到第2阶的方法数=1+2=3。\n",
    "\n",
    "n = 4：从第2阶爬2阶上来（对应爬到第2阶的方法数）。从第3阶爬1阶上来（对应爬到第3阶的方法数）。\n",
    "\n",
    "所以方法数=爬到第2阶的方法数+爬到第3阶的方法数=2+3=5。\n",
    "\n",
    "递推关系：f(n) = f(n-1) + f(n-2)。初始条件：f(1) = 1, f(2) = 2\n",
    "\n",
    "递归树的高度为n，每层有2个分支（f(n-1)和f(n-2)）\n",
    "\n",
    "时间复杂度：O(2^n)"
   ]
  },
  {
   "cell_type": "code",
   "metadata": {
    "ExecuteTime": {
     "end_time": "2025-05-10T02:33:28.489697Z",
     "start_time": "2025-05-10T02:33:28.486761Z"
    }
   },
   "source": [
    "# add your code here\n",
    "def climb(n):\n",
    "    if n == 1:\n",
    "        return 1\n",
    "    if n == 2:\n",
    "        return 2\n",
    "    return climb(n - 1) + climb(n - 2)\n",
    "print(climb(3))\n",
    "print(climb(5))\n",
    "# your algorithm time complexity is: O(2^n)"
   ],
   "outputs": [
    {
     "name": "stdout",
     "output_type": "stream",
     "text": [
      "3\n",
      "8\n"
     ]
    }
   ],
   "execution_count": 14
  },
  {
   "cell_type": "markdown",
   "metadata": {},
   "source": [
    "## 问题 5 \n",
    "\n",
    "> 0-1背包问题：现在有4块大理石，每个大理石对应的重量和价值使用一个元组表示, 即（重量，价值），4块大理石的重量和价值为：[(5,10), (4,40), (6,30), (3, 50)], 假设你有一辆最大承重为9的小推车，请问使用这个小推车装大理石的最大价值为多少\n",
    "\n",
    "请设计一个算法解决该问题，分析算法设计思路，计算时间复杂度，并基于python编程实现"
   ]
  },
  {
   "cell_type": "markdown",
   "metadata": {},
   "source": [
    "idea：设dp[i][w]表示前i块大理石中，总重量不超过w时的最大价值。\n",
    "\n",
    "目标是求dp[4][9]（前4块大理石，承重9时的最大价值）。\n",
    "\n",
    "状态转移方程：\n",
    "对于第i块大理石（重量wi，价值vi）：\n",
    "\n",
    "如果不选第i块：dp[i][w] = dp[i-1][w]。\n",
    "\n",
    "如果选第i块（需满足w ≥ wi）：\n",
    "dp[i][w] = max(dp[i-1][w], dp[i-1][w-wi] + vi)。\n",
    "\n",
    "初始化：\n",
    "\n",
    "dp[0][w] = 0（前0块大理石的价值为0）。\n",
    "\n",
    "dp[i][0] = 0（承重为0时的价值为0）。\n",
    "\n",
    "填充dp表需要遍历n个物品和W个承重值。\n",
    "\n",
    "时间复杂度：O(n×W)，(n:物品数量，W:最大承重)"
   ]
  },
  {
   "cell_type": "code",
   "metadata": {
    "ExecuteTime": {
     "end_time": "2025-05-10T02:36:24.310211Z",
     "start_time": "2025-05-10T02:36:24.306443Z"
    }
   },
   "source": [
    "# add your code here\n",
    "def knapsack(items, max_weight):\n",
    "    n = len(items)\n",
    "    dp = [[0] * (max_weight + 1) for _ in range(n + 1)]\n",
    "    for i in range(1, n + 1):\n",
    "        wi, vi = items[i - 1]\n",
    "        for w in range(1, max_weight + 1):\n",
    "            if wi <= w:\n",
    "                dp[i][w] = max(dp[i - 1][w], dp[i - 1][w - wi] + vi)\n",
    "            else:\n",
    "                dp[i][w] = dp[i - 1][w]\n",
    "    return dp[n][max_weight]\n",
    "items = [(5, 10), (4, 40), (6, 30), (3, 50)]\n",
    "max_weight = 9\n",
    "print(knapsack(items, max_weight))\n",
    "# your algorithm time complexity is:O(n×W)，(n:物品数量，W:最大承重)"
   ],
   "outputs": [
    {
     "name": "stdout",
     "output_type": "stream",
     "text": [
      "90\n"
     ]
    }
   ],
   "execution_count": 16
  },
  {
   "cell_type": "markdown",
   "metadata": {},
   "source": [
    "## 问题 6 \n",
    "给定 `n` 个非负整数表示每个宽度为 `1` 的柱子的高度图，计算按此排列的柱子，下雨之后能接多少雨水。\n",
    "\n",
    "\n",
    "\n",
    "<div style=\"text-align:center;width:800px;\"> <img alt=\"\" src=\"./fig/hw3q6.png\"> </div>\n",
    "\n",
    "请分析算法设计思路，计算时间复杂度，并基于python编程实现"
   ]
  },
  {
   "cell_type": "markdown",
   "metadata": {},
   "source": [
    "idea：对于每个柱子 i，计算它能接的雨水量：\n",
    "\n",
    "找到柱子 i 左边的最高柱子高度 left_max。\n",
    "\n",
    "找到柱子 i 右边的最高柱子高度 right_max。\n",
    "\n",
    "当前柱子 i 能接的雨水量为 min(left_max, right_max) - height[i]（如果结果为正）。\n",
    "\n",
    "对于每个柱子 i，需要向左扫描 0..i-1 找 left_max，向右扫描 i+1..n-1 找 right_max。\n",
    "\n",
    "最坏情况下，每个柱子需要扫描 O(n) 次。\n",
    "\n",
    "总时间复杂度：O(n^2)。"
   ]
  },
  {
   "cell_type": "code",
   "metadata": {
    "ExecuteTime": {
     "end_time": "2025-05-10T02:40:04.480747Z",
     "start_time": "2025-05-10T02:40:04.476435Z"
    }
   },
   "source": [
    "# add your code here\n",
    "def trap(height):\n",
    "    n = len(height)\n",
    "    total_water = 0\n",
    "    for i in range(n):\n",
    "        left_max = 0\n",
    "        for j in range(i):\n",
    "            if height[j] > left_max:\n",
    "                left_max = height[j]\n",
    "        right_max = 0\n",
    "        for j in range(i + 1, n):\n",
    "            if height[j] > right_max:\n",
    "                right_max = height[j]\n",
    "        water = min(left_max, right_max) - height[i]\n",
    "        if water > 0:\n",
    "            total_water += water\n",
    "    return total_water\n",
    "\n",
    "height1 = [0, 1, 0, 2, 1, 0, 1, 3, 2, 1, 2, 1]\n",
    "print(trap(height1))\n",
    "\n",
    "height2 = [4, 2, 0, 3, 2, 5]\n",
    "print(trap(height2))\n",
    "# your algorithm time complexity is:O(n^2)"
   ],
   "outputs": [
    {
     "name": "stdout",
     "output_type": "stream",
     "text": [
      "6\n",
      "9\n"
     ]
    }
   ],
   "execution_count": 19
  },
  {
   "cell_type": "markdown",
   "metadata": {},
   "source": [
    "## 问题 7 \n",
    "\n",
    "**股票投资组合优化**： 假设你是一位投资者，想要在不同的股票中分配你的资金，以最大化你的投资回报。每只股票都有不同的预期收益率和风险。你的目标是选择一些股票，使得总投资金额不超过你的预算，并且预期收益最大化。\n",
    "\n",
    "在这个情况下，你可以将每只股票视为一个“物品”，其重量为投资金额，价值为预期收益率。然后，你可以使用分级背包问题的方法来选择部分股票，以便在预算内获得最大的预期收益。\n",
    "\n",
    "以下是一个简化的例子：\n",
    "\n",
    "假设你有以下三只股票可供选择：\n",
    "\n",
    "1. 股票 A：投资金额 5000 美元，预期收益率 10%\n",
    "2. 股票 B：投资金额 3000 美元，预期收益率 8%\n",
    "3. 股票 C：投资金额 2000 美元，预期收益率 12%\n",
    "\n",
    "请设计算法找到最优投资方案，分析算法设计思路，计算时间复杂度，并基于python编程实现"
   ]
  },
  {
   "cell_type": "markdown",
   "metadata": {},
   "source": [
    "idea：计算每只股票的单位收益。\n",
    "\n",
    "按单位收益从高到低排序。\n",
    "\n",
    "依次选择单位收益高的股票：若预算足够，全部投资；否则，部分投资，投资到用完为止。\n",
    "\n",
    "设有n只股票\n",
    "\n",
    "排序时间：O(nlogn)\n",
    "\n",
    "线性扫描股票列表：O(n)\n",
    "\n",
    "总体时间复杂度：O(nlogn)"
   ]
  },
  {
   "cell_type": "code",
   "metadata": {
    "ExecuteTime": {
     "end_time": "2025-05-10T03:06:44.595195Z",
     "start_time": "2025-05-10T03:06:44.590543Z"
    }
   },
   "source": [
    "# add your code here\n",
    "def knapsack(stocks, budget):\n",
    "    # 计算单位收益率\n",
    "    for stock in stocks:\n",
    "        stock['unit_return'] = stock['return'] / stock['investment']\n",
    "    \n",
    "    # 按单位收益率降序排列\n",
    "    stocks.sort(key=lambda x: x['unit_return'], reverse=True)\n",
    "    \n",
    "    total_return = 0.0\n",
    "    investment_plan = []\n",
    "\n",
    "    for stock in stocks:\n",
    "        if budget == 0:\n",
    "            break\n",
    "        invest = min(stock['investment'], budget)\n",
    "        gain = invest * stock['unit_return']\n",
    "        total_return += gain\n",
    "        investment_plan.append({\n",
    "            'name': stock['name'],\n",
    "            'invested': invest,\n",
    "            'gain': gain,\n",
    "            'fraction': invest / stock['investment']\n",
    "        })\n",
    "        budget -= invest\n",
    "\n",
    "    return total_return, investment_plan\n",
    "\n",
    "\n",
    "# 示例股票数据\n",
    "stocks = [\n",
    "    {'name': 'A', 'investment': 5000, 'return': 5000 * 0.10},  # 10%\n",
    "    {'name': 'B', 'investment': 3000, 'return': 3000 * 0.08},  # 8%\n",
    "    {'name': 'C', 'investment': 2000, 'return': 2000 * 0.12},  # 12%\n",
    "]\n",
    "\n",
    "budget = 8000\n",
    "total_gain, plan = knapsack(stocks, budget)\n",
    "\n",
    "print(f\"总预期收益: ${total_gain:.2f}\")\n",
    "print(\"投资方案:\")\n",
    "for p in plan:\n",
    "    print(f\"股票{p['name']}: 投资${p['invested']}, 收益${p['gain']:.2f}, 投资比例: {p['fraction']:.2%}\")\n",
    "\n",
    "# your algorithm time complexity is:O(nlogn)"
   ],
   "outputs": [
    {
     "name": "stdout",
     "output_type": "stream",
     "text": [
      "总预期收益: $820.00\n",
      "投资方案:\n",
      "股票C: 投资$2000, 收益$240.00, 投资比例: 100.00%\n",
      "股票A: 投资$5000, 收益$500.00, 投资比例: 100.00%\n",
      "股票B: 投资$1000, 收益$80.00, 投资比例: 33.33%\n"
     ]
    }
   ],
   "execution_count": 27
  },
  {
   "cell_type": "markdown",
   "metadata": {},
   "source": [
    "## 问题 8\n",
    "\n",
    "给你二叉搜索树的根节点 root ，该树中的恰好两个节点的值被错误地交换。请在不改变其结构的情况下，恢复这棵树 。设计算法解决该问题，分析算法设计思路，计算时间复杂度，并基于python编程实现\n",
    "\n",
    "e.g.:\n",
    "---\n",
    "1.\n",
    "\n",
    "<div style=\"text-align:center;width:200px;\"> <img alt=\"\" src=\"./fig/hw3q9-1.jpg\"> </div>\n",
    "输入：root = [1,3,null,null,2]， 输出为：[3,1,null,null,2]， \n",
    "\n",
    "解释：3 不能是 1 的左孩子，因为 3 > 1 。交换 1 和 3 使二叉搜索树有效。\n",
    "\n",
    "2.\n",
    "\n",
    " <div style=\"text-align:center;width:200px;\"> <img alt=\"\" src=\"./fig/hw3q9-1.jpg\"> </div>\n",
    "输入： root=[3,1,4,null,null,2]， 输出为：[2,1,4,null,null,3]\n",
    "\n",
    "解释：2 不能在 3 的右子树中，因为 2 < 3 。交换 2 和 3 使二叉搜索树有效。"
   ]
  },
  {
   "cell_type": "markdown",
   "metadata": {},
   "source": [
    "idea：BST的中序遍历结果是一个严格递增的序列。如果两个节点被错误交换，中序遍历时会出现两个地方不满足递增关系：\n",
    "\n",
    "第一次不满足递增：较大的错误节点（first）。\n",
    "\n",
    "第二次不满足递增：较小的错误节点（second）。\n",
    "\n",
    "中序遍历BST，记录当前节点和前一个节点。\n",
    "\n",
    "检测逆序对：如果前一个节点值大于当前节点值，说明找到逆序,第一个逆序的较大节点是first，第二个逆序的较小节点是second,交换两个错误节点的值。\n",
    "\n",
    "中序遍历：O(n)，(n:节点数量)\n",
    "\n",
    "交换操作：O(1)。\n",
    "\n",
    "总时间复杂度：O(n)。\n"
   ]
  },
  {
   "cell_type": "code",
   "metadata": {
    "ExecuteTime": {
     "end_time": "2025-05-10T03:20:30.685646Z",
     "start_time": "2025-05-10T03:20:30.678454Z"
    }
   },
   "source": [
    "# add your code here\n",
    "class TreeNode:\n",
    "    def __init__(self, val=0, left=None, right=None):\n",
    "        self.val = val\n",
    "        self.left = left\n",
    "        self.right = right\n",
    "\n",
    "class Solution:\n",
    "    def recoverTree(self, root: TreeNode) -> None:\n",
    "        self.first = None\n",
    "        self.second = None\n",
    "        self.prev = TreeNode(float('-inf'))\n",
    "        \n",
    "        def inorder(node):\n",
    "            if not node:\n",
    "                return\n",
    "            inorder(node.left)\n",
    "            if not self.first and self.prev.val > node.val:\n",
    "                self.first = self.prev\n",
    "            if self.first and self.prev.val > node.val:\n",
    "                self.second = node\n",
    "            self.prev = node\n",
    "            inorder(node.right)\n",
    "        \n",
    "        inorder(root)\n",
    "        self.first.val, self.second.val = self.second.val, self.first.val\n",
    "\n",
    "def build_tree(lst):\n",
    "    if not lst:\n",
    "        return None\n",
    "    root = TreeNode(lst[0])\n",
    "    queue = [root]\n",
    "    i = 1\n",
    "    while queue and i < len(lst):\n",
    "        node = queue.pop(0)\n",
    "        if lst[i] is not None:\n",
    "            node.left = TreeNode(lst[i])\n",
    "            queue.append(node.left)\n",
    "        i += 1\n",
    "        if i < len(lst) and lst[i] is not None:\n",
    "            node.right = TreeNode(lst[i])\n",
    "            queue.append(node.right)\n",
    "        i += 1\n",
    "    return root\n",
    "\n",
    "def print_tree(root):\n",
    "    if not root:\n",
    "        return []\n",
    "    queue = [root]\n",
    "    res = []\n",
    "    while queue:\n",
    "        node = queue.pop(0)\n",
    "        if node:\n",
    "            res.append(node.val)\n",
    "            queue.append(node.left)\n",
    "            queue.append(node.right)\n",
    "        else:\n",
    "            res.append(None)\n",
    "    while res and res[-1] is None:\n",
    "        res.pop()\n",
    "    return res\n",
    "\n",
    "root1 = build_tree([1, 3, None, None, 2])\n",
    "sol = Solution()\n",
    "sol.recoverTree(root1)\n",
    "print(print_tree(root1))\n",
    "\n",
    "root2 = build_tree([3, 1, 4, None, None, 2])\n",
    "sol.recoverTree(root2)\n",
    "print(print_tree(root2))\n",
    "\n",
    "# your algorithm time complexity is:O(n)"
   ],
   "outputs": [
    {
     "name": "stdout",
     "output_type": "stream",
     "text": [
      "[3, 1, None, None, 2]\n",
      "[2, 1, 4, None, None, 3]\n"
     ]
    }
   ],
   "execution_count": 41
  },
  {
   "cell_type": "markdown",
   "metadata": {},
   "source": [
    "## 问题 9  \n",
    "\n",
    "给你一个二叉树的根节点 root ，树中每个节点都存放有一个 0 到 9 之间的数字。每条从根节点到叶节点的路径都代表一个数字：\n",
    "\n",
    "> 例如，从根节点到叶节点的路径 1 -> 2 -> 3 表示数字 123 。\n",
    "\n",
    "设计一个算法计算从根节点到叶节点生成的所有数字之和 ，分析算法设计思路，计算时间复杂度，并基于python编程实现\n",
    "\n",
    "叶节点:是指没有子节点的节点。\n",
    "\n",
    "e.g.:\n",
    "---\n",
    "1.\n",
    "\n",
    " <div style=\"text-align:center;width:200px;\"> <img alt=\"figure\" src=\"./fig/hw3q10-1.jpg\"> </div>\n",
    "\n",
    " 输入：root = [1,2,3], 输出：25\n",
    "\n",
    "解释：从根到叶子节点路径 1->2 代表数字 12，1->3 代表数字 13，因此和为 12 + 13 = 25 。\n",
    "\n",
    "2.\n",
    "\n",
    " <div style=\"text-align:center;width:200px;\"> <img alt=\"figure\" src=\"./fig/hw3q10-2.jpg\"> </div>\n",
    "\n",
    " 输入：root = [4,9,0,5,1], 输出：1026\n",
    "\n",
    "解释：从根到叶子节点路径 4->9->5 代表数字 495，4->9->1 代表数字 491，4->0 代表数字 40。因此和为 495 + 491 + 40 = 1026 。"
   ]
  },
  {
   "cell_type": "markdown",
   "metadata": {},
   "source": [
    "idea：深度优先搜索：从根节点出发，递归遍历每条路径。\n",
    "\n",
    "路径数字构建：在遍历过程中，维护当前路径的数字（current_num = current_num * 10 + node.val）。\n",
    "\n",
    "叶节点判断：当遇到叶节点时，将当前数字加入总和。\n",
    "\n",
    "回溯：返回上一层时，需要回退当前数字（current_num // 10）。\n",
    "\n",
    "时间复杂度：O(n)，(n为节点数量，每个节点仅被访问一次)"
   ]
  },
  {
   "cell_type": "code",
   "metadata": {
    "ExecuteTime": {
     "end_time": "2025-05-10T03:19:50.210884Z",
     "start_time": "2025-05-10T03:19:50.205727Z"
    }
   },
   "source": [
    "# add your code here\n",
    "class TreeNode:\n",
    "    def __init__(self, val=0, left=None, right=None):\n",
    "        self.val = val\n",
    "        self.left = left\n",
    "        self.right = right\n",
    "def sumNumbers(root: TreeNode):\n",
    "    def dfs(node, current_num):\n",
    "        if not node:\n",
    "            return 0\n",
    "        current_num = current_num * 10 + node.val\n",
    "        if not node.left and not node.right:\n",
    "            return current_num\n",
    "        return dfs(node.left, current_num) + dfs(node.right, current_num)\n",
    "    return dfs(root, 0)\n",
    "def build_tree(lst):\n",
    "    if not lst:\n",
    "        return None\n",
    "    root = TreeNode(lst[0])\n",
    "    queue = [root]\n",
    "    i = 1\n",
    "    while queue and i < len(lst):\n",
    "        node = queue.pop(0)\n",
    "        if i < len(lst) and lst[i] is not None:\n",
    "            node.left = TreeNode(lst[i])\n",
    "            queue.append(node.left)\n",
    "        i += 1\n",
    "        if i < len(lst) and lst[i] is not None:\n",
    "            node.right = TreeNode(lst[i])\n",
    "            queue.append(node.right)\n",
    "        i += 1\n",
    "    return root\n",
    "\n",
    "root1 = build_tree([1, 2, 3])\n",
    "print(sumNumbers(root1)) \n",
    "\n",
    "root2 = build_tree([4, 9, 0, 5, 1])\n",
    "print(sumNumbers(root2))\n",
    "# your algorithm time complexity is:O(n)"
   ],
   "outputs": [
    {
     "name": "stdout",
     "output_type": "stream",
     "text": [
      "25\n",
      "1026\n"
     ]
    }
   ],
   "execution_count": 40
  },
  {
   "cell_type": "markdown",
   "metadata": {},
   "source": [
    "## 问题 10  \n",
    "\n",
    "给你一个二叉树的根节点 root ， 检查它是否轴对称。\n",
    "\n",
    "1. 分析算法设计思路，计算时间复杂度，并基于python编程实现\n",
    "2. \\* 设计使用递归和迭代两种方法解决这个问题，计算时间复杂度，并基于python编程实现\n",
    "\n",
    "e.g.:\n",
    "---\n",
    "1.\n",
    "\n",
    " <div style=\"text-align:center;width:200px;\"> <img alt=\"figure\" src=\"./fig/hw3q11-1.png\"> </div>\n",
    "\n",
    " 输入：root = [1,2,2,3,4,4,3]， 输出：true\n",
    "\n",
    "解释：二叉树 [1,2,2,3,4,4,3] 对称。\n",
    "\n",
    "2.\n",
    "\n",
    " <div style=\"text-align:center;width:200px;\"> <img alt=\"figure\" src=\"./fig/hw3q11-2.png\"> </div>\n",
    "\n",
    " 输入：root = [1,2,2,null,3,null,3]， 输出：false"
   ]
  },
  {
   "cell_type": "markdown",
   "metadata": {},
   "source": [
    "idea:使用队列按层比较节点。\n",
    "\n",
    "每次从队列中取出两个节点，检查它们的值是否相等。\n",
    "\n",
    "将它们的左右子节点按镜像顺序入队。\n",
    "\n",
    "时间复杂度：O(n)，(n为节点数量，每个节点仅被访问一次)"
   ]
  },
  {
   "cell_type": "code",
   "metadata": {
    "ExecuteTime": {
     "end_time": "2025-05-10T03:18:18.736893Z",
     "start_time": "2025-05-10T03:18:18.732291Z"
    }
   },
   "source": [
    "# add your code here\n",
    "from collections import deque\n",
    "\n",
    "def isSymmetric(root: TreeNode):\n",
    "    if not root:\n",
    "        return True\n",
    "    queue = deque([(root.left, root.right)])\n",
    "    while queue:\n",
    "        left, right = queue.popleft()\n",
    "        if not left and not right:\n",
    "            continue\n",
    "        if not left or not right or left.val != right.val:\n",
    "            return False\n",
    "        queue.append((left.left, right.right))\n",
    "        queue.append((left.right, right.left))\n",
    "    return True\n",
    "\n",
    "root1 = build_tree([1, 2, 2, 3, 4, 4, 3])\n",
    "print(isSymmetric(root1))\n",
    "\n",
    "root2 = build_tree([1, 2, 2, None, 3, None, 3])\n",
    "print(isSymmetric(root2))\n",
    "# your algorithm time complexity is:O(n)"
   ],
   "outputs": [
    {
     "name": "stdout",
     "output_type": "stream",
     "text": [
      "True\n",
      "False\n"
     ]
    }
   ],
   "execution_count": 39
  },
  {
   "cell_type": "markdown",
   "metadata": {},
   "source": [
    "## 问题 11  \n",
    "\n",
    "给你一个由 '1'（陆地）和 '0'（水）组成的的二维网格，请你计算网格中岛屿的数量。岛屿总是被水包围，并且每座岛屿只能由水平方向和/或竖直方向上相邻的陆地连接形成。\n",
    "\n",
    "此外，你可以假设该网格的四条边均被水包围。\n",
    "\n",
    "分析算法设计思路，计算时间复杂度，并基于python编程实现\n",
    "\n",
    "e.g.:\n",
    "---\n",
    "1.\n",
    "输入：grid = [\n",
    "\n",
    "    [\"1\",\"1\",\"1\",\"1\",\"0\"],\n",
    "\n",
    "    [\"1\",\"1\",\"0\",\"1\",\"0\"], \n",
    "\n",
    "    [\"1\",\"1\",\"0\",\"0\",\"0\"], \n",
    "\n",
    "    [\"0\",\"0\",\"0\",\"0\",\"0\"]  \n",
    "\n",
    "]\n",
    "\n",
    "输出：1\n",
    "\n",
    "2.\n",
    "输入：grid = [\n",
    "\n",
    "    [\"1\",\"1\",\"0\",\"0\",\"0\"],\n",
    "\n",
    "    [\"1\",\"1\",\"0\",\"0\",\"0\"],\n",
    "\n",
    "    [\"0\",\"0\",\"1\",\"0\",\"0\"],\n",
    "\n",
    "    [\"0\",\"0\",\"0\",\"1\",\"1\"]\n",
    "\n",
    "]\n",
    "\n",
    "输出：3"
   ]
  },
  {
   "cell_type": "markdown",
   "metadata": {},
   "source": [
    "idea:深度优先搜索：遍历网格中的每个单元格。当遇到 '1' 时，启动DFS，将所有相连的 '1' 标记为已访问（'0'），并增加岛屿计数。DFS会递归或迭代地访问当前单元格的上下左右相邻单元格。\n",
    "\n",
    "时间复杂度：O(m×n)，(m和n分别是网格的行数和列数,每个单元格最多被访问一次)"
   ]
  },
  {
   "cell_type": "code",
   "metadata": {
    "ExecuteTime": {
     "end_time": "2025-05-10T03:23:27.762098Z",
     "start_time": "2025-05-10T03:23:27.756540Z"
    }
   },
   "source": [
    "# add your code here\n",
    "from typing import List\n",
    "\n",
    "def numIslands(grid: List[List[str]]) -> int:\n",
    "    if not grid:\n",
    "        return 0\n",
    "    rows, cols = len(grid), len(grid[0])\n",
    "    count = 0\n",
    "    def dfs(r, c):\n",
    "        if r < 0 or r >= rows or c < 0 or c >= cols or grid[r][c] != '1':\n",
    "            return\n",
    "        grid[r][c] = '0'\n",
    "        dfs(r + 1, c)\n",
    "        dfs(r - 1, c)\n",
    "        dfs(r, c + 1)\n",
    "        dfs(r, c - 1)\n",
    "    for r in range(rows):\n",
    "        for c in range(cols):\n",
    "            if grid[r][c] == '1':\n",
    "                count += 1\n",
    "                dfs(r, c)\n",
    "    return count\n",
    "\n",
    "grid1 = [\n",
    "    [\"1\",\"1\",\"1\",\"1\",\"0\"],\n",
    "    [\"1\",\"1\",\"0\",\"1\",\"0\"],\n",
    "    [\"1\",\"1\",\"0\",\"0\",\"0\"],\n",
    "    [\"0\",\"0\",\"0\",\"0\",\"0\"]\n",
    "]\n",
    "print(numIslands(grid1))\n",
    "\n",
    "grid2 = [\n",
    "    [\"1\",\"1\",\"0\",\"0\",\"0\"],\n",
    "    [\"1\",\"1\",\"0\",\"0\",\"0\"],\n",
    "    [\"0\",\"0\",\"1\",\"0\",\"0\"],\n",
    "    [\"0\",\"0\",\"0\",\"1\",\"1\"]\n",
    "]\n",
    "print(numIslands(grid2))\n",
    "# your algorithm time complexity is:O(m×n)"
   ],
   "outputs": [
    {
     "name": "stdout",
     "output_type": "stream",
     "text": [
      "1\n",
      "3\n"
     ]
    }
   ],
   "execution_count": 44
  },
  {
   "metadata": {},
   "cell_type": "code",
   "outputs": [],
   "execution_count": null,
   "source": ""
  }
 ],
 "metadata": {
  "language_info": {
   "name": "python"
  },
  "kernelspec": {
   "name": "python3",
   "language": "python",
   "display_name": "Python 3 (ipykernel)"
  }
 },
 "nbformat": 4,
 "nbformat_minor": 2
}
