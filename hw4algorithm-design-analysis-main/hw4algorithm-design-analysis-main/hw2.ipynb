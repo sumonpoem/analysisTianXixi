{
 "cells": [
  {
   "cell_type": "markdown",
   "metadata": {},
   "source": [
    "## algorithm design and anlysis-2025 spring  homework 2\n",
    "**Deadline**：2025.5.14\n",
    "\n",
    "**name**:田茜茜\n",
    "\n",
    "\n",
    "note：\n",
    "---\n",
    "1. 带有\\*的题目，申请免上课的同学，必须完成，其他同学选作；\n",
    "2. 请独立完成，如求助了他人或者大模型，请著明，并且不可省略算法分析部分；\n",
    "4. 如若作答有雷同，全部取消成绩；\n",
    "3. 需要书面作答的题目，可以通过引用图片的形式添加，但是注意上传项目时包含所引用的图片的源文件；\n",
    "4. $log_n$ 默认表示$log_2{n}$;"
   ]
  },
  {
   "cell_type": "markdown",
   "metadata": {},
   "source": [
    "## 问题 1  \n",
    "\n",
    "> 给定一个已排序的链表的头 `head` ， *删除所有重复的元素，使每个元素只出现一次* 。返回 *已排序的链表* 。链表的类如下所示：\n",
    "\n",
    "```python\n",
    "class NodeList:\n",
    "    def __init__(self, val=None, right=None):\n",
    "        self.val   = val\n",
    "        self.right = right\n",
    "```\n",
    "\n",
    "输入是一个数组，你首先需要将数组转化为链表，然后删除链表中的重复元素，再遍历链表元素，以一个数组的形式返回。请设计一个算法解决上述任务，分析算法设计思路，计算时间复杂度, 并基于python编程实现。\n",
    "\n",
    "e.g.  输入：head=[1, 1, 2, 3, 3]   输出：[1, 2, 3]\n",
    "\n",
    "![image-20240502110020439](./fig/hw2q1.png)\n",
    "\n"
   ]
  },
  {
   "cell_type": "markdown",
   "metadata": {},
   "source": [
    "idea：先将输入的数组转为链表结构,比较当前节点和下一个节点的值是否相等,若相等，跳过当前节点的right指针，直接指向下一个不重复的节点,最后再遍历链表，将链表的值存入一个数组中返回。\n",
    "构建链表：O(n)\n",
    "删除重复元素：O(n)\n",
    "遍历链表转数组：O(n)\n",
    "总时间复杂度：O(n)(n是链表中节点数)"
   ]
  },
  {
   "cell_type": "code",
   "metadata": {
    "ExecuteTime": {
     "end_time": "2025-05-09T13:23:17.593900Z",
     "start_time": "2025-05-09T13:23:17.588795Z"
    }
   },
   "source": [
    "# add your idea here\n",
    "class NodeList:\n",
    "    def __init__(self, val=None, right=None):\n",
    "        self.val = val\n",
    "        self.right = right\n",
    "\n",
    "def arrayLink(arr):\n",
    "    if not arr:\n",
    "        return None\n",
    "    head = NodeList(arr[0])\n",
    "    current = head\n",
    "    for val in arr[1:]:\n",
    "        current.right = NodeList(val)\n",
    "        current = current.right\n",
    "    return head\n",
    "\n",
    "def removeNum(head):\n",
    "    current = head\n",
    "    while current and current.right:\n",
    "        if current.val == current.right.val:\n",
    "            current.right = current.right.right\n",
    "        else:\n",
    "            current = current.right\n",
    "    return head\n",
    "\n",
    "def linkArray(head):\n",
    "    res = []\n",
    "    current = head\n",
    "    while current:\n",
    "        res.append(current.val)\n",
    "        current = current.right\n",
    "    return res\n",
    "\n",
    "def deleteArray(arr):\n",
    "    head = arrayLink(arr)\n",
    "    head = removeNum(head)\n",
    "    return linkArray(head)\n",
    "\n",
    "print(deleteArray([1, 1, 2, 3, 3]))\n",
    "\n",
    "# your algorithm time complexity is:O(n)"
   ],
   "outputs": [
    {
     "name": "stdout",
     "output_type": "stream",
     "text": [
      "[1, 2, 3]\n"
     ]
    }
   ],
   "execution_count": 4
  },
  {
   "cell_type": "markdown",
   "metadata": {},
   "source": [
    "## 问题 2  \n",
    "\n",
    "> 下面是一个经典的算法问题：\n",
    ">\n",
    "> - 给定包含n个整数的一个整数数组 `nums` 和一个整数目标值 `target`，请你在该数组中找出 **和为目标值** *`target`* 的那 **两个** 整数，并返回它们的**数组下标**。假设每种输入只会对应一个答案。但是，数组中同一个元素在答案里不能重复出现。你可以按任意顺序返回答案。\n",
    ">\n",
    "> 由于要多次查找数组中元素的位置，为了提高查询效率可以使用哈希表来存储数组中的数据，在哈希表中查询一个元素的复杂度为O(1)。 已知python中的字典是使用哈希表实现的，即使用`dict[key]`查询对应的value时间复杂度为O(1), python提供了查询字典是否包含某个key的功能：`key in dict`，时间复杂度也是O(1)\n",
    "\n",
    "请根据上面信息，设计一个时间复杂度为O(n) 的算法，解决上述算法问题\n",
    "\n",
    "e.g.   \n",
    "\n",
    "输入：nums=[2,7,11,15], target=9， 输出：[0，1]\n",
    "\n",
    "输入：nums=[3,2,4], target=6, 输出：[1,2]\n",
    "\n",
    "输入：nums=[3,3], target=6,  输出：[0,1]\n"
   ]
  },
  {
   "cell_type": "code",
   "metadata": {
    "ExecuteTime": {
     "end_time": "2025-05-09T14:48:33.408828Z",
     "start_time": "2025-05-09T14:48:33.405314Z"
    }
   },
   "source": [
    "# add your idea here\n",
    "def sum(nums, target):\n",
    "    seen = {}\n",
    "    for i, num in enumerate(nums):\n",
    "        t = target - num\n",
    "        if t in seen:\n",
    "            return [seen[t], i]\n",
    "        seen[num] = i\n",
    "print(sum([2, 7, 11, 15], 9))\n",
    "print(sum([3, 2, 4], 6))\n",
    "print(sum([3, 3], 6)) \n",
    "\n",
    "# your algorithm time complexity is:O(n)"
   ],
   "outputs": [
    {
     "name": "stdout",
     "output_type": "stream",
     "text": [
      "[0, 1]\n",
      "[1, 2]\n",
      "[0, 1]\n"
     ]
    }
   ],
   "execution_count": 8
  },
  {
   "cell_type": "markdown",
   "metadata": {},
   "source": [
    "## 问题 3:   \n",
    "\n",
    "> 栈是一种常用的数据结构，编译器中通常使用栈来实现表达式求值。\n",
    ">\n",
    "> 以表达式 $3+5 \\times 8-6$​ 为例。编译器使用两个栈来完成运算，即一个栈保持操作数，另一个栈保存运算符。\n",
    ">\n",
    "> 1. 从左向右遍历表达式，遇到数字就压入操作数栈；\n",
    ">\n",
    "> 2. 遇到运算符，就与运算符栈的栈顶元素进行比较。如果比运算符栈顶元素的优先级高，就将当前运算符压入栈；如果比运算符栈顶元素的优先级低或者相同，从运算符栈中取栈顶运算符，从操作数栈的栈顶取 2 个操作数，然后进行计算，再把计算完的结果压入操作数栈，继续比较。\n",
    ">\n",
    "> 下图是 $3+5 \\times 8-6$  这个表达式的计算过程：\n",
    "\n",
    "![figure](./fig/hw2q3.png)\n",
    "\n",
    "根据上述原理，请设计一个算法完成表达式的运算，当输入为表达式字符串，返回对应的计算结果。分析算法设计思路，计算时间复杂度，并基于python编程实现\n",
    "\n",
    "**note：**\n",
    "\n",
    "1. 假设输入的表达式只会出现加（“+”），减 “-”， 乘“*”，除 “/” 四个运算符, 表达式中只会出现正整数\n",
    "2. python中` str.isdigit()`函数可以判断字符串str是否为数字，\n",
    "\n",
    "\n",
    "\n",
    "e.g. :\n",
    "---\n",
    "\n",
    "1. 输入：“$3+5 * 8 -6$”   输出：37\n",
    "\n",
    "2. 输入：“$34+13*9 + 44-12/3$”  输出：191"
   ]
  },
  {
   "cell_type": "markdown",
   "metadata": {},
   "source": [
    "idea：1. 初始化两个栈：nums: 操作数栈（存数字）;ops: 运算符栈（存+ - * /）\n",
    "2. 定义运算符优先级：\n",
    "precedence = {'+': 1, '-': 1, '*': 2, '/': 2}\n",
    "3. 表达式从左到右逐个扫描：\n",
    "如果是数字：解析完一个完整数字后入nums栈；如果是运算符：不断比较与 ops 栈顶的运算符优先级：如果当前优先级 低或相同，就从栈顶取出两个数字和一个操作符，计算结果压回 nums 栈；否则，直接将该运算符压栈；遍历结束后：将 ops 中剩下的操作符全部执行完。\n",
    "4. 计算函数 calc(a, b, op)：\n",
    "注意栈弹出顺序是 b = nums.pop()，a = nums.pop()，再执行 a op b\n",
    "\n",
    "每个数字和运算符最多入栈、出栈一次，时间复杂度为O(n)，(n：表达式长度）"
   ]
  },
  {
   "cell_type": "code",
   "metadata": {
    "ExecuteTime": {
     "end_time": "2025-05-09T14:55:29.738789Z",
     "start_time": "2025-05-09T14:55:29.732800Z"
    }
   },
   "source": [
    "# add your idea here\n",
    "def evaluate(expr):\n",
    "    def precedence(op):\n",
    "        return {'+': 1, '-': 1, '*': 2, '/': 2}[op]\n",
    "    def apply_op(a, b, op):\n",
    "        if op == '+': return a + b\n",
    "        if op == '-': return a - b\n",
    "        if op == '*': return a * b\n",
    "        if op == '/': return a // b\n",
    "    nums = []\n",
    "    ops = []\n",
    "    i = 0\n",
    "    n = len(expr)\n",
    "    while i < n:\n",
    "        if expr[i] == ' ':\n",
    "            i += 1\n",
    "            continue\n",
    "        if expr[i].isdigit():\n",
    "            num = 0\n",
    "            while i < n and expr[i].isdigit():\n",
    "                num = num * 10 + int(expr[i])\n",
    "                i += 1\n",
    "            nums.append(num)\n",
    "        else:\n",
    "            while ops and precedence(ops[-1]) >= precedence(expr[i]):\n",
    "                b = nums.pop()\n",
    "                a = nums.pop()\n",
    "                op = ops.pop()\n",
    "                nums.append(apply_op(a, b, op))\n",
    "            ops.append(expr[i])\n",
    "            i += 1\n",
    "    while ops:\n",
    "        b = nums.pop()\n",
    "        a = nums.pop()\n",
    "        op = ops.pop()\n",
    "        nums.append(apply_op(a, b, op))\n",
    "    return nums[0]\n",
    "print(evaluate(\"3+5*8-6\"))\n",
    "print(evaluate(\"34+13*9+44-12/3\"))\n",
    "\n",
    "# your algorithm time complexity is: O(n)"
   ],
   "outputs": [
    {
     "name": "stdout",
     "output_type": "stream",
     "text": [
      "37\n",
      "191\n"
     ]
    }
   ],
   "execution_count": 13
  },
  {
   "cell_type": "markdown",
   "metadata": {},
   "source": [
    "## 问题 4:  \n",
    "\n",
    "> 星球碰撞问题：现有n个星球，在同一条直线上运行，如数组A所示，元素的绝对值表示星球的质量，负数表示星球自右向左运动，正数表示星球自左向右运动，当两个星球相撞的时候，质量小的会消失，大的保持不变，**质量相同的两个星球碰撞后自右向左运动的星球消失，自左向右的星球保持不变**，假设所有星球的速度大小相同。\n",
    ">\n",
    "> $ A=[23,-8, 9, -3, -7, 9, -23, 22] $\n",
    "\n",
    "请设计一个算法模拟星球的运行情况，输出最终的星球存续情况（输出一个数组），分析算法设计思路，计算时间复杂度，并基于python编程实现。\n",
    "\n",
    "e.g.\n",
    "---\n",
    "1.  输入： A=[-3,-6,2,8, 5,-8,9,-2,1]， 输出：[-3, -6, 2, 8, 9, 1]\n",
    "\n",
    "2. 输入：A=[23,-8, 9, -3, -7, 9, -23, 22], 输出：[23, 22]\n",
    "\n"
   ]
  },
  {
   "metadata": {},
   "cell_type": "markdown",
   "source": [
    "idea：从左向右扫描星球数组A，借助一个栈stack来保存当前存续的星球，规则如下：1.正数（向右）星球：始终入栈；\n",
    "2.负数（向左）星球：需要检查栈顶的正数星球是否存在碰撞；\n",
    "只与栈顶向右运动的星球相撞：\n",
    "如果栈顶星球质量更大，当前负星球消失（不入栈）；\n",
    "如果栈顶质量更小，弹出栈顶，继续比较；\n",
    "如果质量相等，当前负星球消失，正星球留存；\n",
    "如果栈顶不是正数（或者为空），直接入栈。\n",
    "\n",
    "每个星球最多被压栈和弹栈各一次；\n",
    "所以时间复杂度为 O(n)"
   ]
  },
  {
   "metadata": {
    "ExecuteTime": {
     "end_time": "2025-05-09T14:59:23.254116Z",
     "start_time": "2025-05-09T14:59:23.250091Z"
    }
   },
   "cell_type": "code",
   "source": [
    "# add your idea here\n",
    "def planet(A):\n",
    "    stack = []\n",
    "    for planet in A:\n",
    "        if planet > 0:\n",
    "            stack.append(planet)\n",
    "        else:\n",
    "            while stack and stack[-1] > 0:\n",
    "                if abs(planet) < stack[-1]:\n",
    "                    break\n",
    "                elif abs(planet) > stack[-1]:\n",
    "                    stack.pop()\n",
    "                    continue\n",
    "                elif abs(planet) == stack[-1]:\n",
    "                    break\n",
    "            else:\n",
    "                stack.append(planet)\n",
    "    return stack\n",
    "print(planet([-3,-6,2,8,5,-8,9,-2,1]))\n",
    "print(planet([23,-8,9,-3,-7,9,-23,22]))\n"
   ],
   "outputs": [
    {
     "name": "stdout",
     "output_type": "stream",
     "text": [
      "[-3, -6, 2, 8, 9, 1]\n",
      "[23, 22]\n"
     ]
    }
   ],
   "execution_count": 14
  },
  {
   "cell_type": "markdown",
   "metadata": {},
   "source": [
    "## 问题 5 \n",
    "\n",
    "> 给定一个无序数组nums=[9,-3,-10,0,9,7,33]，请建立一个二叉搜索树存储数组中的所有元素，之后删除二叉树中的元素“0”，再使用中序遍历输出二叉搜索树中的所有元素。\n",
    "\n",
    "使用python编程完成上述任务，并计算时间复杂度\n"
   ]
  },
  {
   "metadata": {},
   "cell_type": "markdown",
   "source": [
    "插入 n 个元素： O(n log n)\n",
    "删除一个元素： O(log n)\n",
    "中序遍历所有节点： O(n)\n",
    "总计O(nlogn)"
   ]
  },
  {
   "cell_type": "code",
   "metadata": {
    "ExecuteTime": {
     "end_time": "2025-05-09T15:06:48.882588Z",
     "start_time": "2025-05-09T15:06:48.877198Z"
    }
   },
   "source": [
    "# add your idea here\n",
    "class TreeNode:\n",
    "    def __init__(self, val):\n",
    "        self.val = val\n",
    "        self.left = None\n",
    "        self.right = None\n",
    "def insert(root, val):\n",
    "    if root is None:\n",
    "        return TreeNode(val)\n",
    "    if val < root.val:\n",
    "        root.left = insert(root.left, val)\n",
    "    else:\n",
    "        root.right = insert(root.right, val)\n",
    "    return root\n",
    "def delete(root, key):\n",
    "    if root is None:\n",
    "        return None\n",
    "    if key < root.val:\n",
    "        root.left = delete(root.left, key)\n",
    "    elif key > root.val:\n",
    "        root.right = delete(root.right, key)\n",
    "    else:\n",
    "        if not root.left:\n",
    "            return root.right\n",
    "        if not root.right:\n",
    "            return root.left\n",
    "        min_node = root.right\n",
    "        while min_node.left:\n",
    "            min_node = min_node.left\n",
    "        root.val = min_node.val \n",
    "        root.right = delete(root.right, min_node.val)\n",
    "    return root\n",
    "def inorder(root):\n",
    "    return inorder(root.left) + [root.val] + inorder(root.right) if root else []\n",
    "\n",
    "def helper(nums, delete_val):\n",
    "    root = None\n",
    "    for num in nums:\n",
    "        root = insert(root, num)\n",
    "    root = delete(root, delete_val)\n",
    "    return inorder(root)\n",
    "\n",
    "nums = [9, -3, -10, 0, 9, 7, 33]\n",
    "print(helper(nums, 0))\n",
    "\n",
    "# your algorithm time complexity is:O(nlogn)"
   ],
   "outputs": [
    {
     "name": "stdout",
     "output_type": "stream",
     "text": [
      "[-10, -3, 7, 9, 9, 33]\n"
     ]
    }
   ],
   "execution_count": 16
  },
  {
   "cell_type": "markdown",
   "metadata": {},
   "source": [
    "## 问题 6  \n",
    "\n",
    "> 给定一个包含大写字母和小写字母的字符串 s ，返回 字符串包含的 **最长的回文子串的长度** 。请注意 区分大小写 。比如 \"Aa\" 不能当做一个回文字符串。\n",
    ">\n",
    "\n",
    "请设计一个算法解决上述问题，只需要输出最长回文子串的长度，分析算法设计思路，计算时间复杂度，并基于python编程实现\n",
    "\n",
    "e.g. 输入： s=\"adccaccd\"，  输出：7。 最长回文子串为：\"dccaccd\", 长度为7\n"
   ]
  },
  {
   "cell_type": "markdown",
   "metadata": {},
   "source": [
    "idea：一个回文串的中心可能是：一个字符（奇数长度）：如 \"aba\" 的中心是 \"b\"，两个字符之间（偶数长度）：如 \"abba\" 的中心是 \"bb\"，所以我们总共有2n-1个可能的中心（n是字符串长度）\n",
    "\n",
    "遍历每个字符，以它或它与右边字符之间为中心；\n",
    "向两边扩展，直到不是回文为止；\n",
    "记录扩展过程中得到的最长回文长度。\n",
    "\n",
    "中心扩展共 2n-1 个中心，每次最多扩展 O(n) 次字符；\n",
    "所以总体时间复杂度是 O(n²)"
   ]
  },
  {
   "cell_type": "code",
   "metadata": {
    "ExecuteTime": {
     "end_time": "2025-05-09T15:13:17.694311Z",
     "start_time": "2025-05-09T15:13:17.690108Z"
    }
   },
   "source": [
    "# add your idea here\n",
    "def longestLength(s):\n",
    "    def expand(left, right):\n",
    "        while left >= 0 and right < len(s) and s[left] == s[right]:\n",
    "            left -= 1\n",
    "            right += 1\n",
    "        return right - left - 1\n",
    "\n",
    "    max_len = 0\n",
    "    for i in range(len(s)):\n",
    "        len1 = expand(i, i)\n",
    "        len2 = expand(i, i + 1)\n",
    "        max_len = max(max_len, len1, len2)\n",
    "\n",
    "    return max_len\n",
    "print(longestLength(\"adccaccd\"))\n",
    "print(longestLength(\"Aa\"))\n",
    "\n",
    "# your algorithm time complexity is:O(n²)\n"
   ],
   "outputs": [
    {
     "name": "stdout",
     "output_type": "stream",
     "text": [
      "7\n",
      "1\n"
     ]
    }
   ],
   "execution_count": 18
  },
  {
   "cell_type": "markdown",
   "metadata": {},
   "source": [
    "## 问题 7 \n",
    "\n",
    "> 沿一条长河流分散着n座房子。你可以把这条河想象成一条轴，房子是由它们在这条轴上的坐标按顺序排列的。你的公司想在河边的特定地点设置手机基站，这样每户人家都在距离基站4公里的范围内。输入可以看作为一个升序数组，数组元素的取值为大于等于0的正整数，你需要输出最小基站的数目，基站的位置。\n",
    "\n",
    "1. 给出一个时间复杂度为$O(n$) 的算法，使所使用的基站数量最小化，分析算法设计思路，使用python编程实现\n",
    "2. 证明1.中算法产生了最优解决方案。\n",
    "\n",
    "e.g. \n",
    "\n",
    "输入： [1, 5, 12, 33, 34,35]  输出：基站数目为3， 基站位置为[1，12，33]\n",
    "\n"
   ]
  },
  {
   "cell_type": "markdown",
   "metadata": {},
   "source": [
    "idea：1.贪心策略：顺序遍历每个房子，并在当前房子覆盖范围最右端放置基站，尽可能让一个基站覆盖更多房子。\n",
    "将基站放在当前未被覆盖的最左边的房子的位置。\n",
    "覆盖范围是 [house, house + 8]。\n",
    "跳过所有 houses[j] <= house + 8 的房子。\n",
    "\n",
    "2.要证明该贪心算法得到的是最优解，可以使用贪心选择性质和最优子结构性质。\n",
    "\n",
    "贪心选择性质：每次选择当前未被覆盖的最左边的房子作为基站的位置，可以覆盖尽可能多的后续房子。这是因为如果选择更靠右的位置，可能会漏掉一些房子；选择更靠左的位置不会覆盖更多的房子。\n",
    "\n",
    "最优子结构：在放置一个基站后，剩下的问题是在未被覆盖的房子上放置基站，这是一个子问题。如果原问题的最优解包含这个贪心选择，那么子问题的最优解也可以贪心地构造。"
   ]
  },
  {
   "cell_type": "code",
   "metadata": {
    "ExecuteTime": {
     "end_time": "2025-05-09T15:21:48.108827Z",
     "start_time": "2025-05-09T15:21:48.105254Z"
    }
   },
   "source": [
    "def minbases(houses):\n",
    "    if not houses:\n",
    "        return 0, []\n",
    "    bases = []\n",
    "    n = len(houses)\n",
    "    i = 0\n",
    "    while i < n:\n",
    "        current_base = houses[i]\n",
    "        bases.append(current_base)\n",
    "        while i < n and houses[i] <= current_base + 8:\n",
    "            i += 1\n",
    "    return len(bases), bases\n",
    "houses = [1, 5, 12, 33, 34, 35]\n",
    "num_bases, bases = minbases(houses)\n",
    "print(f\"基站数目为{num_bases}，基站位置为{bases}\")"
   ],
   "outputs": [
    {
     "name": "stdout",
     "output_type": "stream",
     "text": [
      "基站数目为3，基站位置为[1, 12, 33]\n"
     ]
    }
   ],
   "execution_count": 21
  },
  {
   "cell_type": "markdown",
   "metadata": {},
   "source": [
    "## 问题 8  \n",
    "\n",
    "> 给定由n个正整数组成的一个集合$S = \\{a_1, a_2，···，a_n\\}$和一个正整数W，设计一个算法确定是否存在S的一个子集 $K \\subseteq S$, 使K中所有数之和为 $W$, 如果存在返回“True”，否则返回“False”\n",
    "\n",
    "请设计一个时间复杂度为$O(nW)$动态规划算法，解决上述问题，分析算法的设计思路，并且基于python编程实现（不需要输出子集）。\n",
    "\n",
    "e.g. \n",
    "\n",
    "输入：S = {1,4,7,3,5}， W = 11，输出：True。   因为K可以是{4,7}。\n",
    "\n"
   ]
  },
  {
   "cell_type": "markdown",
   "metadata": {},
   "source": [
    "idea：可以通过动态规划来解决，构建一个二维数组dp，其中dp[i][j]表示前i个元素中是否存在一个子集的和为j。\n",
    "\n",
    "状态定义\n",
    "dp[i][j]：布尔值，表示在前 i 个元素中是否存在一个子集的和为 j。\n",
    "\n",
    "初始化：\n",
    "dp[0][0] = True：空集的和为 0。\n",
    "\n",
    "dp[0][j] = False（j > 0）：空集无法组成任何正数和。\n",
    "\n",
    "状态转移：\n",
    "如果 j >= S[i-1]，则 dp[i][j] = dp[i-1][j] or dp[i-1][j - S[i-1]]。\n",
    "\n",
    "dp[i-1][j]：不选当前元素 S[i-1]。\n",
    "\n",
    "dp[i-1][j - S[i-1]]：选当前元素 S[i-1]。\n",
    "\n",
    "如果 j < S[i-1]，则 dp[i][j] = dp[i-1][j]。\n"
   ]
  },
  {
   "cell_type": "code",
   "metadata": {
    "ExecuteTime": {
     "end_time": "2025-05-09T15:26:39.955433Z",
     "start_time": "2025-05-09T15:26:39.952269Z"
    }
   },
   "source": [
    "# add your idea here\n",
    "def sum(S, W):\n",
    "    n = len(S)\n",
    "    dp = [False] * (W + 1)\n",
    "    dp[0] = True\n",
    "\n",
    "    for num in S:\n",
    "        for j in range(W, num - 1, -1):\n",
    "            if dp[j - num]:\n",
    "                dp[j] = True\n",
    "    return dp[W]\n",
    "S = {1, 4, 7, 3, 5}\n",
    "W = 11\n",
    "print(sum(S, W))\n",
    "# your algorithm time complexity is: O(nW)"
   ],
   "outputs": [
    {
     "name": "stdout",
     "output_type": "stream",
     "text": [
      "True\n"
     ]
    }
   ],
   "execution_count": 23
  },
  {
   "cell_type": "markdown",
   "metadata": {},
   "source": [
    "\n",
    "\n",
    "## 问题 9 \n",
    "\n",
    "> 给定一个n个物品的集合。物体的重量为$w_1, w_2，…、w_n$，物品的价值分别是$v_1、v_2、…v_n$。给你**两个**重量为 $c$ 的背包。如果你带了一个东西，它可以放在一个背包里，也可以放在另一个背包里，但不能同时放在两个背包里。所有权重和价值都是正整数。\n",
    "\n",
    "1. 设计一个时间复杂度为 $O(nc^2)$ 的动态规划算法，确定可以放入两个背包的物体的最大价值。分析算法设计思路，并基于python编程实现\n",
    "2. \\* 修改1中的算法，输出每个背包的内容（物品对应下标）。\n",
    "\n",
    "e.g.: \n",
    "\n",
    "输入 V=[1,3,2,5,8,7], W=[1,3,2,5,8,7], c=7, 输出：最大价值=14，背包装的物品为：[6] [4，3] （同一个背包中物品装入顺序对结果无影响）  \n"
   ]
  },
  {
   "cell_type": "markdown",
   "metadata": {},
   "source": [
    "idea：通过动态规划来解决，考虑状态转移时的约束。\n",
    "1. 定义状态\n",
    "我们定义一个三维数组 \n",
    "dp[i][j][k]：dp[i][j][k] 表示在前i个物品中，背包1容量为j时，背包2容量为k时可以获得的最大价值。\n",
    "\n",
    "2. 初始状态\n",
    "dp[0][j][k]=0，表示如果没有物品，两个背包中的价值都为 0。\n",
    "\n",
    "3. 状态转移\n",
    "对于第 \n",
    "i 个物品，我们有三种选择：\n",
    "将物品放入背包 1 中，更新背包 1 的容量。\n",
    "将物品放入背包 2 中，更新背包 2 的容量。\n",
    "不选择该物品。"
   ]
  },
  {
   "cell_type": "code",
   "metadata": {
    "ExecuteTime": {
     "end_time": "2025-05-09T15:43:42.849146Z",
     "start_time": "2025-05-09T15:43:42.843076Z"
    }
   },
   "source": [
    "# add your idea here\n",
    "def knapsack(V, W, c):\n",
    "    n = len(V)\n",
    "    dp = [[0] * (c + 1) for _ in range(c + 1)]\n",
    "    items = [[([], []) for _ in range(c + 1)] for _ in range(c + 1)]\n",
    "    for i in range(n):\n",
    "        v_i = V[i]\n",
    "        w_i = W[i]\n",
    "        for j in range(c, -1, -1):\n",
    "            for k in range(c, -1, -1):\n",
    "                current_val = dp[j][k]\n",
    "                current_items = items[j][k]\n",
    "                if j >= w_i:\n",
    "                    new_val = dp[j - w_i][k] + v_i\n",
    "                    if new_val > current_val:\n",
    "                        current_val = new_val\n",
    "                        current_items = (items[j - w_i][k][0] + [i + 1], items[j - w_i][k][1])\n",
    "                if k >= w_i:\n",
    "                    new_val = dp[j][k - w_i] + v_i\n",
    "                    if new_val > current_val:\n",
    "                        current_val = new_val\n",
    "                        current_items = (items[j][k - w_i][0], items[j][k - w_i][1] + [i + 1])\n",
    "                dp[j][k] = current_val\n",
    "                items[j][k] = current_items\n",
    "    return dp[c][c], items[c][c]\n",
    "V = [1, 3, 2, 5, 8, 7]\n",
    "W = [1, 3, 2, 5, 8, 7]\n",
    "c = 7\n",
    "max_value, (pack1, pack2) = knapsack(V, W, c)\n",
    "print(f\"最大价值={max_value}，背包装的物品为：{pack1}{pack2}\")\n",
    "\n",
    "# your algorithm time complexity is: O(nc^2)"
   ],
   "outputs": [
    {
     "name": "stdout",
     "output_type": "stream",
     "text": [
      "最大价值=14，背包装的物品为：[6][3, 4]\n"
     ]
    }
   ],
   "execution_count": 34
  },
  {
   "cell_type": "markdown",
   "metadata": {},
   "source": [
    "## 问题 10 \n",
    "\n",
    "> 给定两个字符串 $x[1..n]$ 和 $y[1..m]$，我们想通过以下操作将 $x$ 变换为 $y$ :\n",
    ">\n",
    "> **插入**：在 $x$ 中插入一个字符(在任何位置)；**删除**：从 $x$ 中删除一个字符(在任何位置)； **替换**：用另一个字符替换 $x$ 中的一个字符。\n",
    ">\n",
    "> 例如: $x = abcd$, $y = bcfe$，\n",
    ">\n",
    "> - 将 $x$ 转换为 $y$ 的一种可能方法是：1. 删除 $x$ 开头的 $a$, $x$变成 $bcd$； 2. 将 $x$ 中的字符 $d$ 替换为字符 $f$。$x$ 变成 $bcf$； 3. 在 $x$ 的末尾插入字符 $e$。$x$ 变成 $bcfe$。\n",
    ">\n",
    "> - 另一种可能的方法：1. 删除 $x$ 开头的 $a$,  $x$ 变成 $bcd$； 2. 在 $x$ 中字符 $d$ 之前插入字符 $f$。$x$ 变成 $bcfd$。3. 将 $x$ 中的字符 $d$ 替换为字符 $e$。$x$ 变成 $bcfe$。\n",
    "\n",
    "设计一个时间复杂度为 $O(mn)$ 的算法，返回将 $x$ 转换为 $y$ 所需的最少操作次数。分析算法设计思路，并基于python编程实现。\n"
   ]
  },
  {
   "cell_type": "markdown",
   "metadata": {},
   "source": [
    "idea：可以通过动态规划解决。\n",
    "状态定义\n",
    "定义dp[i][j]表示将x的前i个字符转换为y的前j个字符所需的最少操作次数。\n",
    "\n",
    "状态转移方程\n",
    "如果 x[i-1] == y[j-1]：不需要操作，dp[i][j] = dp[i-1][j-1]。\n",
    "\n",
    "如果 x[i-1] != y[j-1]：\n",
    "\n",
    "插入：dp[i][j] = dp[i][j-1] + 1（在 x 中插入 y[j-1]）。\n",
    "\n",
    "删除：dp[i][j] = dp[i-1][j] + 1（删除 x[i-1]）。\n",
    "\n",
    "替换：dp[i][j] = dp[i-1][j-1] + 1（将 x[i-1] 替换为 y[j-1]）。\n",
    "\n",
    "取这三种操作的最小值。\n",
    "\n",
    "初始化\n",
    "dp[0][j]=j：将空字符串转换为y的前j个字符需要j次插入。\n",
    "\n",
    "dp[i][0]=i：将x的前i个字符转换为空字符串需要i次删除。"
   ]
  },
  {
   "cell_type": "code",
   "metadata": {
    "ExecuteTime": {
     "end_time": "2025-05-09T15:44:49.633585Z",
     "start_time": "2025-05-09T15:44:49.629287Z"
    }
   },
   "source": [
    "# add your idea here\n",
    "def distance(x, y):\n",
    "    m = len(x)\n",
    "    n = len(y)\n",
    "    dp = [[0] * (n + 1) for _ in range(m + 1)]\n",
    "    for i in range(m + 1):\n",
    "        dp[i][0] = i\n",
    "    for j in range(n + 1):\n",
    "        dp[0][j] = j\n",
    "    for i in range(1, m + 1):\n",
    "        for j in range(1, n + 1):\n",
    "            if x[i - 1] == y[j - 1]:\n",
    "                dp[i][j] = dp[i - 1][j - 1]\n",
    "            else:\n",
    "                dp[i][j] = min(\n",
    "                    dp[i - 1][j] + 1, \n",
    "                    dp[i][j - 1] + 1, \n",
    "                    dp[i - 1][j - 1] + 1\n",
    "                )\n",
    "    return dp[m][n]\n",
    "x = \"abcd\"\n",
    "y = \"bcfe\"\n",
    "print(distance(x, y)) \n",
    "# your algorithm time complexity is: O(mn)"
   ],
   "outputs": [
    {
     "name": "stdout",
     "output_type": "stream",
     "text": [
      "3\n"
     ]
    }
   ],
   "execution_count": 35
  },
  {
   "metadata": {},
   "cell_type": "code",
   "outputs": [],
   "execution_count": null,
   "source": ""
  }
 ],
 "metadata": {
  "language_info": {
   "name": "python"
  },
  "kernelspec": {
   "name": "python3",
   "language": "python",
   "display_name": "Python 3 (ipykernel)"
  }
 },
 "nbformat": 4,
 "nbformat_minor": 2
}
